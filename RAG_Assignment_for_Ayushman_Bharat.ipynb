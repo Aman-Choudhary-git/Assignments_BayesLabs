{
  "nbformat": 4,
  "nbformat_minor": 0,
  "metadata": {
    "colab": {
      "provenance": [],
      "gpuType": "T4"
    },
    "kernelspec": {
      "name": "python3",
      "display_name": "Python 3"
    },
    "language_info": {
      "name": "python"
    },
    "accelerator": "GPU"
  },
  "cells": [
    {
      "cell_type": "markdown",
      "source": [
        "#Understanding Ayushman Bharat\n",
        "\n",
        "\n",
        "\n",
        "##PROBLEM STATEMENT: Help General public understand the mission of Ayushman Bharat.\n",
        "\n",
        "##BUSINESS STATEMENT: Develop an AI-powered assistant chatbot to help Government to enable instant resolution to public queries.\n",
        "\n"
      ],
      "metadata": {
        "id": "yftkLQxc5BMH"
      }
    },
    {
      "cell_type": "markdown",
      "source": [
        "###Installing Necessary libraries"
      ],
      "metadata": {
        "id": "eIzXRmuT5373"
      }
    },
    {
      "cell_type": "code",
      "source": [
        "!pip install PyPDF2 -q\n",
        "!pip install gradio transformers -q"
      ],
      "metadata": {
        "colab": {
          "base_uri": "https://localhost:8080/"
        },
        "id": "QAeYNj2XcoSP",
        "outputId": "312293a9-a88f-4711-87e2-fdd5e6130c66"
      },
      "execution_count": null,
      "outputs": [
        {
          "output_type": "stream",
          "name": "stdout",
          "text": [
            "\u001b[2K   \u001b[90m━━━━━━━━━━━━━━━━━━━━━━━━━━━━━━━━━━━━━━━━\u001b[0m \u001b[32m232.6/232.6 kB\u001b[0m \u001b[31m12.3 MB/s\u001b[0m eta \u001b[36m0:00:00\u001b[0m\n",
            "\u001b[2K   \u001b[90m━━━━━━━━━━━━━━━━━━━━━━━━━━━━━━━━━━━━━━━━\u001b[0m \u001b[32m57.2/57.2 MB\u001b[0m \u001b[31m13.5 MB/s\u001b[0m eta \u001b[36m0:00:00\u001b[0m\n",
            "\u001b[2K   \u001b[90m━━━━━━━━━━━━━━━━━━━━━━━━━━━━━━━━━━━━━━━━\u001b[0m \u001b[32m320.4/320.4 kB\u001b[0m \u001b[31m15.2 MB/s\u001b[0m eta \u001b[36m0:00:00\u001b[0m\n",
            "\u001b[2K   \u001b[90m━━━━━━━━━━━━━━━━━━━━━━━━━━━━━━━━━━━━━━━━\u001b[0m \u001b[32m94.8/94.8 kB\u001b[0m \u001b[31m7.3 MB/s\u001b[0m eta \u001b[36m0:00:00\u001b[0m\n",
            "\u001b[2K   \u001b[90m━━━━━━━━━━━━━━━━━━━━━━━━━━━━━━━━━━━━━━━━\u001b[0m \u001b[32m11.2/11.2 MB\u001b[0m \u001b[31m96.8 MB/s\u001b[0m eta \u001b[36m0:00:00\u001b[0m\n",
            "\u001b[2K   \u001b[90m━━━━━━━━━━━━━━━━━━━━━━━━━━━━━━━━━━━━━━━━\u001b[0m \u001b[32m73.2/73.2 kB\u001b[0m \u001b[31m5.0 MB/s\u001b[0m eta \u001b[36m0:00:00\u001b[0m\n",
            "\u001b[2K   \u001b[90m━━━━━━━━━━━━━━━━━━━━━━━━━━━━━━━━━━━━━━━━\u001b[0m \u001b[32m62.3/62.3 kB\u001b[0m \u001b[31m4.6 MB/s\u001b[0m eta \u001b[36m0:00:00\u001b[0m\n",
            "\u001b[?25h"
          ]
        }
      ]
    },
    {
      "cell_type": "code",
      "source": [
        "import PyPDF2\n",
        "import requests\n",
        "from io import BytesIO\n",
        "import warnings\n",
        "from urllib3.exceptions import InsecureRequestWarning\n",
        "import gradio as gr\n",
        "from transformers import AutoModelForCausalLM, AutoTokenizer, pipeline\n",
        "from collections import deque\n",
        "from torch import autocast"
      ],
      "metadata": {
        "id": "A8YxcYrCcqAn"
      },
      "execution_count": null,
      "outputs": []
    },
    {
      "cell_type": "markdown",
      "source": [
        "###1. Data Extraction\n",
        "Excration of the data from the Ayushman Bharat website"
      ],
      "metadata": {
        "id": "Z9wmasnqcFkU"
      }
    },
    {
      "cell_type": "code",
      "source": [
        "warnings.simplefilter(\"ignore\", InsecureRequestWarning)\n",
        "\n",
        "\n",
        "def extract_pdf_pages(pdf_url, pages_to_extract):\n",
        "    response = requests.get(pdf_url, verify=False)\n",
        "    pdf_file = BytesIO(response.content)\n",
        "\n",
        "\n",
        "    pdf_reader = PyPDF2.PdfReader(pdf_file)\n",
        "\n",
        "    extracted_text = ''\n",
        "    for page_num in pages_to_extract:\n",
        "        extracted_text += pdf_reader.pages[page_num].extract_text()\n",
        "\n",
        "    return extracted_text\n",
        "\n",
        "\n",
        "pdf_url = \"https://www.nhm.gov.in/New_Updates_2018/NHM_Components/Health_System_Stregthening/Comprehensive_primary_health_care/letter/Operational_Guidelines_For_CPHC.pdf\"\n",
        "\n",
        "\n",
        "pages_to_extract = [18, 19, 20]\n",
        "\n",
        "\n",
        "extracted_text = extract_pdf_pages(pdf_url, pages_to_extract)\n",
        "print(extracted_text[:1999])"
      ],
      "metadata": {
        "colab": {
          "base_uri": "https://localhost:8080/"
        },
        "id": "8g_5VeVLc3Dh",
        "outputId": "847b2f4f-9ffb-40ad-ffac-39c8903635f5"
      },
      "execution_count": null,
      "outputs": [
        {
          "output_type": "stream",
          "name": "stdout",
          "text": [
            "AYUSHMAN BHARAT:  Comprehensive Primary Health Care through Health and Wellness CentersThe National Health Mission (NHM), the country’s flagship health systems strengthening programme, \n",
            "particularly for primary and secondary health care envisages “attainment of universal access to equitable, \n",
            "affordable and quality health care which is accountable and responsive to the needs of people” . Investments \n",
            "during the life of the NHM in its earlier phases were targeted to strengthen Reproductive and Child Health (RCH) services and contain the increasing burden of communicable diseases such as Tuberculosis, HIV/AIDS and vector borne diseases. While such a focus on selective primary health care interventions, enabled \n",
            "improvements in key indicators related to RCH and select communicable diseases, the range of services \n",
            "delivered at the primary care level did not consider increasing disease burden and rising costs of care on account of chronic diseases. \n",
            "Studies show that 11.5% households in rural areas and about only 4% in urban areas, reported seeking any \n",
            "form of OPD care - at or below the CHC level (except for childbirth) primary care facilities, indicating low \n",
            "utilization of the public health systems for other common ailments\n",
            "1. National Sample Survey estimates for \n",
            "the period-2004 to 2014 show a 10% increase in households facing catastrophic healthcare expenditures. This could be attributed to the fact that private sector remains the major provider of health services in \n",
            "the country and caters to over 75% and 62% of outpatient and in-patient care respectively. India is also witnessing an epidemiological and demographic transition, where non-communicable diseases such as cardiovascular diseases, diabetes, cancer, respiratory, and other chronic diseases, account for over 60% of \n",
            "total mortality.\n",
            "2\n",
            "There is global evidence that Primary Health Care is critical to improving health outcomes. It has an important \n",
            "role in the primary and secondary prevention of several diseas\n"
          ]
        }
      ]
    },
    {
      "cell_type": "markdown",
      "source": [
        "###Chatbot Development and Gradio Implementation"
      ],
      "metadata": {
        "id": "RyMjzMaXe5g-"
      }
    },
    {
      "cell_type": "code",
      "source": [
        "model_name = \"distilgpt2\"\n",
        "model = AutoModelForCausalLM.from_pretrained(model_name)\n",
        "tokenizer = AutoTokenizer.from_pretrained(model_name)\n",
        "chatbot = pipeline(\"text-generation\", model=model, tokenizer=tokenizer)\n",
        "conversation_history = deque(maxlen=3)\n",
        "\n",
        "cache = {}\n",
        "\n",
        "def respond_to_query(user_input):\n",
        "    if user_input in cache:\n",
        "        return cache[user_input]\n",
        "\n",
        "    with autocast(\"cuda\"):\n",
        "        response = chatbot(user_input, max_length=200)[0]['generated_text']\n",
        "\n",
        "    cache[user_input] = response\n",
        "\n",
        "    conversation_history.append(user_input)\n",
        "\n",
        "    return response\n",
        "\n",
        "def is_ayushman_bharat_related(question):\n",
        "    relevant_keywords = ['Ayushman Bharat', 'healthcare', 'mission', 'CPHC']\n",
        "    question_lower = question.lower()\n",
        "    return any(keyword.lower() in question_lower for keyword in relevant_keywords)\n",
        "\n",
        "def respond_with_guardrails(user_input):\n",
        "    if not is_ayushman_bharat_related(user_input):\n",
        "        return \"Sorry, I can only answer questions related to Ayushman Bharat.\"\n",
        "\n",
        "    respons = respond_to_query(user_input)\n",
        "    return respons\n",
        "\n",
        "\n",
        "iface = gr.Interface(fn=respond_to_query, inputs=\"text\", outputs=\"text\")\n",
        "\n",
        "iface.launch()\n"
      ],
      "metadata": {
        "colab": {
          "base_uri": "https://localhost:8080/",
          "height": 666
        },
        "id": "E78pHQTSeROg",
        "outputId": "7c47b669-f2e6-416d-d636-0bcb1c5dca7a"
      },
      "execution_count": null,
      "outputs": [
        {
          "output_type": "stream",
          "name": "stderr",
          "text": [
            "Device set to use cuda:0\n"
          ]
        },
        {
          "output_type": "stream",
          "name": "stdout",
          "text": [
            "Running Gradio in a Colab notebook requires sharing enabled. Automatically setting `share=True` (you can turn this off by setting `share=False` in `launch()` explicitly).\n",
            "\n",
            "Colab notebook detected. To show errors in colab notebook, set debug=True in launch()\n",
            "* Running on public URL: https://80e9c903978fa2a1ec.gradio.live\n",
            "\n",
            "This share link expires in 72 hours. For free permanent hosting and GPU upgrades, run `gradio deploy` from the terminal in the working directory to deploy to Hugging Face Spaces (https://huggingface.co/spaces)\n"
          ]
        },
        {
          "output_type": "display_data",
          "data": {
            "text/plain": [
              "<IPython.core.display.HTML object>"
            ],
            "text/html": [
              "<div><iframe src=\"https://80e9c903978fa2a1ec.gradio.live\" width=\"100%\" height=\"500\" allow=\"autoplay; camera; microphone; clipboard-read; clipboard-write;\" frameborder=\"0\" allowfullscreen></iframe></div>"
            ]
          },
          "metadata": {}
        },
        {
          "output_type": "execute_result",
          "data": {
            "text/plain": []
          },
          "metadata": {},
          "execution_count": 12
        }
      ]
    }
  ]
}