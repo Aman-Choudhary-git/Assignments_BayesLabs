{
  "nbformat": 4,
  "nbformat_minor": 0,
  "metadata": {
    "colab": {
      "provenance": []
    },
    "kernelspec": {
      "name": "python3",
      "display_name": "Python 3"
    },
    "language_info": {
      "name": "python"
    }
  },
  "cells": [
    {
      "cell_type": "markdown",
      "source": [
        "#Week 4: Coding Assignment\n",
        "\n",
        "##Design a prompt to perform the following tasks-\n",
        "\n",
        "###Customer Review Extraction\n",
        "1. Extract the customer(name & ID), product and company details\n",
        "2. Extract the sentiment of the customer\n",
        "3. What was good or bad about the product- give specific details"
      ],
      "metadata": {
        "id": "fInI93M7gqBE"
      }
    },
    {
      "cell_type": "markdown",
      "source": [
        "#CODE"
      ],
      "metadata": {
        "id": "8_oXjrfZhoJV"
      }
    },
    {
      "cell_type": "code",
      "execution_count": 3,
      "metadata": {
        "id": "3cHcpvtvddxU"
      },
      "outputs": [],
      "source": [
        "!pip install pandas nltk gradio -q"
      ]
    },
    {
      "cell_type": "code",
      "source": [
        "import re\n",
        "import pandas as pd\n",
        "import nltk\n",
        "from nltk.sentiment import SentimentIntensityAnalyzer\n",
        "import gradio as gr\n",
        "\n",
        "nltk.download('vader_lexicon')\n",
        "sia = SentimentIntensityAnalyzer()"
      ],
      "metadata": {
        "colab": {
          "base_uri": "https://localhost:8080/"
        },
        "id": "obb-Cicge3C4",
        "outputId": "785a2720-4452-4a52-97fc-1b46e1f9a7cb"
      },
      "execution_count": 7,
      "outputs": [
        {
          "output_type": "stream",
          "name": "stderr",
          "text": [
            "[nltk_data] Downloading package vader_lexicon to /root/nltk_data...\n",
            "[nltk_data]   Package vader_lexicon is already up-to-date!\n"
          ]
        }
      ]
    },
    {
      "cell_type": "code",
      "source": [
        "file_path = '/content/customer_review.txt'\n",
        "with open(file_path, 'r', encoding='utf-8') as file:\n",
        "    data = file.read()\n",
        "\n",
        "print(data)"
      ],
      "metadata": {
        "colab": {
          "base_uri": "https://localhost:8080/"
        },
        "id": "MRu0MI87hrmy",
        "outputId": "42c277bc-b530-4672-e68a-246832d1f292"
      },
      "execution_count": 8,
      "outputs": [
        {
          "output_type": "stream",
          "name": "stdout",
          "text": [
            "@Customer: Varun D. Kapoor (ID#: CRM5543219) | Purchase Date: 22/10/2023 | Store: Croma Electronics, DLF Mall Branch, Sector 18, Noida, UP - 201301 | Product: Pebble BassX Prime™ Wireless Speaker (#PBL-SPK22) | Order #: CRM/DLF/2023/10/7788 ✨ What a FANTASTIC buy @ just ₹2,499/-! Been using this Pebble speaker for 3 weeks & honestly amazed by the value for money 🎵. Sales rep @Amit (ID#CR567) recommended this over expensive brands & boy was he right! Let me tell you why this budget speaker is punching way above its weight -> First off, the BASS!!! For this price point, totally unexpected depth & clarity = perfect party companion 🔊. Battery life is IMPRESSIVE: advertised 8hrs but I'm getting solid 9.5hrs on 60% volume!!! RGB lights sync w/ music = creates nice ambiance (can be turned off too). Bluetooth 5.0 connection = zero lag & connects instantly w/ my iPhone & laptop. Range is solid, works through walls up to ~30ft ⚡. Delivery/setup experience was smooth: ordered @ 11am, delivered same day @ 4pm exactly as promised. Really appreciate the thoughtful additions: aux cable included + Type-C charging (finally!) + voice assistant compatible + IPX6 water resistance (survived a small rain splash already!) 💫. Sound quality for calls is crystal clear - using it for WFH meetings daily. The dual pairing feature lets me connect 2 phones simultaneously = super convenient for family use 📱. Build quality feels sturdy despite plastic body - survived 2 accidental drops w/o a scratch! Called customer support (#1800-123-4567) to understand equalizer settings → got helpful guidance in 1st attempt. Store manager @Deepak Sinha even shared his personal WhatsApp for any issues = great customer service! Only tiny suggestion: wish the manual was bit more detailed re: EQ settings. Getting so many compliments during house parties - friends can't believe the price when they hear the sound quality! Definitely exceeded expectations for a budget speaker - perfect balance of features & affordability 🌟. Already ordered another one for my parents! Big thumbs up to Pebble & Croma for this value-packed product. #PebbleSpeaker #BudgetBuy #QualitySound #PerfectChoice #HappyPurchase [Posted: 13/11/2023 | Review ID: REV34567890]\n"
          ]
        }
      ]
    },
    {
      "cell_type": "markdown",
      "source": [
        "### 1. Details of Customer, Product & Company"
      ],
      "metadata": {
        "id": "oMzuYYheiwVA"
      }
    },
    {
      "cell_type": "code",
      "source": [
        "customer_match = re.search(r\"@Customer: (.+?) \\(ID#: (.+?)\\)\", data)\n",
        "customer_name = customer_match.group(1) if customer_match else \"Not Found\"\n",
        "customer_id = customer_match.group(2) if customer_match else \"Not Found\"\n",
        "\n",
        "product_match = re.search(r\"Product: (.+?) \\((#.+?)\\)\", data)\n",
        "product_name = product_match.group(1) if product_match else \"Not Found\"\n",
        "product_id = product_match.group(2) if product_match else \"Not Found\"\n",
        "\n",
        "store_match = re.search(r\"Store: (.+?)\\|\", data)\n",
        "store = store_match.group(1) if store_match else \"Not Found\"\n",
        "\n",
        "\n",
        "print(f\"Customer Name: {customer_name}\")\n",
        "print(f\"Customer ID: {customer_id}\")\n",
        "print(f\"Product Name: {product_name}\")\n",
        "print(f\"Product ID: {product_id}\")\n",
        "print(f\"Store: {store}\")"
      ],
      "metadata": {
        "colab": {
          "base_uri": "https://localhost:8080/"
        },
        "id": "dN2Vo8NwicuW",
        "outputId": "5399fc86-7084-4181-f282-10d0bb9ea483"
      },
      "execution_count": 15,
      "outputs": [
        {
          "output_type": "stream",
          "name": "stdout",
          "text": [
            "Customer Name: Varun D. Kapoor\n",
            "Customer ID: CRM5543219\n",
            "Product Name: Pebble BassX Prime™ Wireless Speaker\n",
            "Product ID: #PBL-SPK22\n",
            "Store: Croma Electronics, DLF Mall Branch, Sector 18, Noida, UP - 201301 \n"
          ]
        }
      ]
    },
    {
      "cell_type": "markdown",
      "source": [
        "### 2. Sentimental Analysis of the Customer"
      ],
      "metadata": {
        "id": "juR8DxUyjnW9"
      }
    },
    {
      "cell_type": "code",
      "source": [
        "sentiment = sia.polarity_scores(data)\n",
        "sentiment_type = (\n",
        "    \"Positive\" if sentiment['compound'] > 0.05 else\n",
        "    \"Negative\" if sentiment['compound'] < -0.05 else\n",
        "    \"Neutral\"\n",
        ")\n",
        "\n",
        "print(f\"Sentiment of the customer for the product is '{sentiment_type}'\")"
      ],
      "metadata": {
        "colab": {
          "base_uri": "https://localhost:8080/"
        },
        "id": "NwwqfiybjIV9",
        "outputId": "f697da9b-2e15-4c98-dad8-5a105ff5cf9d"
      },
      "execution_count": 14,
      "outputs": [
        {
          "output_type": "stream",
          "name": "stdout",
          "text": [
            "Sentiment of the customer for the product is 'Positive'\n"
          ]
        }
      ]
    },
    {
      "cell_type": "markdown",
      "source": [
        "### 3. Review of the Product"
      ],
      "metadata": {
        "id": "89ZE9hdnk2I8"
      }
    },
    {
      "cell_type": "code",
      "source": [
        "positives = re.findall(r\"(?i)\\b(?:fantastic|impressive|perfect|great|amazing|helpful|sturdy|smooth|solid)\\b\", data)\n",
        "negatives = re.findall(r\"(?i)\\b(?:tiny|wish|manual)\\b\", data)\n",
        "\n",
        "\n",
        "print(f\"The good things about the product : {', '.join(set(positives)) if positives else 'Not Found'}\")\n",
        "print(f\"The bad things about the product : {', '.join(set(negatives)) if negatives else 'Not Found'}\")\n"
      ],
      "metadata": {
        "colab": {
          "base_uri": "https://localhost:8080/"
        },
        "id": "UCuf9qT7kNmY",
        "outputId": "e5033ff6-ad81-4f3a-e1d3-4e93766f6f54"
      },
      "execution_count": 22,
      "outputs": [
        {
          "output_type": "stream",
          "name": "stdout",
          "text": [
            "The good things about the product : sturdy, helpful, smooth, perfect, solid, great, FANTASTIC, IMPRESSIVE\n",
            "The bad things about the product : wish, manual, tiny\n"
          ]
        }
      ]
    },
    {
      "cell_type": "markdown",
      "source": [
        "## Gradio Interface"
      ],
      "metadata": {
        "id": "dj4otXy0mEOi"
      }
    },
    {
      "cell_type": "code",
      "source": [
        "def analyze_review(review_text):\n",
        "    # Simplified re-use of code for new reviews\n",
        "    sentiment = sia.polarity_scores(review_text)\n",
        "    sentiment_type = (\n",
        "        \"Positive\" if sentiment['compound'] > 0.05 else\n",
        "        \"Negative\" if sentiment['compound'] < -0.05 else\n",
        "        \"Neutral\"\n",
        "    )\n",
        "\n",
        "    positives = re.findall(r\"(?i)\\b(?:fantastic|impressive|perfect|great|amazing|helpful|sturdy|smooth|solid)\\b\", review_text)\n",
        "    negatives = re.findall(r\"(?i)\\b(?:tiny|wish|manual)\\b\", review_text)\n",
        "\n",
        "    return {\n",
        "        \"Sentiment\": sentiment_type,\n",
        "        \"Positive Feedback\": ', '.join(set(positives)) if positives else \"Not Found\",\n",
        "        \"Negative Feedback\": ', '.join(set(negatives)) if negatives else \"Not Found\"\n",
        "    }\n",
        "\n",
        "interface = gr.Interface(\n",
        "    fn=analyze_review,\n",
        "    inputs=\"text\",\n",
        "    outputs=\"json\",\n",
        "    title=\"Customer Review Analyzer\",\n",
        "    description=\"Analyze reviews for sentiment and feedback.\"\n",
        ")\n",
        "\n",
        "\n",
        "interface.launch()"
      ],
      "metadata": {
        "colab": {
          "base_uri": "https://localhost:8080/",
          "height": 648
        },
        "id": "-VwbUwy5lGdu",
        "outputId": "506bab14-76ff-48e5-8fc4-aebee94f2810"
      },
      "execution_count": 23,
      "outputs": [
        {
          "output_type": "stream",
          "name": "stdout",
          "text": [
            "Running Gradio in a Colab notebook requires sharing enabled. Automatically setting `share=True` (you can turn this off by setting `share=False` in `launch()` explicitly).\n",
            "\n",
            "Colab notebook detected. To show errors in colab notebook, set debug=True in launch()\n",
            "* Running on public URL: https://16566483a473967c55.gradio.live\n",
            "\n",
            "This share link expires in 72 hours. For free permanent hosting and GPU upgrades, run `gradio deploy` from the terminal in the working directory to deploy to Hugging Face Spaces (https://huggingface.co/spaces)\n"
          ]
        },
        {
          "output_type": "display_data",
          "data": {
            "text/plain": [
              "<IPython.core.display.HTML object>"
            ],
            "text/html": [
              "<div><iframe src=\"https://16566483a473967c55.gradio.live\" width=\"100%\" height=\"500\" allow=\"autoplay; camera; microphone; clipboard-read; clipboard-write;\" frameborder=\"0\" allowfullscreen></iframe></div>"
            ]
          },
          "metadata": {}
        },
        {
          "output_type": "execute_result",
          "data": {
            "text/plain": []
          },
          "metadata": {},
          "execution_count": 23
        }
      ]
    },
    {
      "cell_type": "code",
      "source": [],
      "metadata": {
        "id": "hSbLewwQmXXd"
      },
      "execution_count": null,
      "outputs": []
    }
  ]
}